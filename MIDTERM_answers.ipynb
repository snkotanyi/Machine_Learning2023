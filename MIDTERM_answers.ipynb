{
  "cells": [
    {
      "cell_type": "markdown",
      "metadata": {
        "id": "view-in-github",
        "colab_type": "text"
      },
      "source": [
        "<a href=\"https://colab.research.google.com/github/snkotanyi/Machine_Learning2023/blob/main/MIDTERM_answers.ipynb\" target=\"_parent\"><img src=\"https://colab.research.google.com/assets/colab-badge.svg\" alt=\"Open In Colab\"/></a>"
      ]
    },
    {
      "cell_type": "code",
      "execution_count": 3,
      "id": "bbe4d9d7-11b2-4cec-afe9-db318067df2b",
      "metadata": {
        "id": "bbe4d9d7-11b2-4cec-afe9-db318067df2b"
      },
      "outputs": [],
      "source": [
        "import numpy as np\n",
        "import matplotlib.pyplot as plt\n",
        "import pandas as pd"
      ]
    },
    {
      "cell_type": "code",
      "execution_count": null,
      "id": "e7b5ac36-46d1-404a-91d3-f847047814da",
      "metadata": {
        "id": "e7b5ac36-46d1-404a-91d3-f847047814da"
      },
      "outputs": [],
      "source": [
        "Importing the dataset given into Jupyter notebook"
      ]
    },
    {
      "cell_type": "code",
      "execution_count": null,
      "id": "17779941-ca65-4075-bc25-4d3b3936bb2f",
      "metadata": {
        "id": "17779941-ca65-4075-bc25-4d3b3936bb2f"
      },
      "outputs": [],
      "source": [
        "# Read in the dataset\n",
        "Housing_data = pd.read_csv('Housingdata.csv')\n"
      ]
    },
    {
      "cell_type": "code",
      "execution_count": null,
      "id": "6e50582f-1cbe-4918-b0d7-66dac2e6f78f",
      "metadata": {
        "id": "6e50582f-1cbe-4918-b0d7-66dac2e6f78f"
      },
      "outputs": [],
      "source": [
        "#Calculating the Median house value"
      ]
    },
    {
      "cell_type": "code",
      "execution_count": null,
      "id": "3528bb80-2f6f-4a07-a7f2-347b7410bab8",
      "metadata": {
        "id": "3528bb80-2f6f-4a07-a7f2-347b7410bab8"
      },
      "outputs": [],
      "source": [
        "# Calculate the average of the median house value of all neighborhoods\n",
        "average_median_house_value = Housing_data['median_house_value'].mean()\n"
      ]
    },
    {
      "cell_type": "code",
      "execution_count": null,
      "id": "2aad9294",
      "metadata": {
        "id": "2aad9294"
      },
      "outputs": [],
      "source": [
        "Classification of Neighborhoods into 2 classes # High Value and Low Value"
      ]
    },
    {
      "cell_type": "code",
      "execution_count": null,
      "id": "1d6097fe-bc54-421b-a224-57b6520accaa",
      "metadata": {
        "id": "1d6097fe-bc54-421b-a224-57b6520accaa"
      },
      "outputs": [],
      "source": [
        "def classify_neighborhood(median_house_value):\n",
        "    if median_house_value >= average_median_house_value:\n",
        "        return 'High value'\n",
        "    else:\n",
        "        return 'Low value'\n"
      ]
    },
    {
      "cell_type": "code",
      "execution_count": null,
      "id": "5d38605d",
      "metadata": {
        "id": "5d38605d"
      },
      "outputs": [],
      "source": [
        "# Apply the function to the median_house_value column to create a new column for the class"
      ]
    },
    {
      "cell_type": "code",
      "execution_count": null,
      "id": "564de796-7749-42fb-8184-11a56b237bc0",
      "metadata": {
        "id": "564de796-7749-42fb-8184-11a56b237bc0"
      },
      "outputs": [],
      "source": [
        "Housing_data['class'] = Housing_data['median_house_value'].apply(classify_neighborhood)\n",
        "\n"
      ]
    },
    {
      "cell_type": "code",
      "execution_count": null,
      "id": "aa753373",
      "metadata": {
        "id": "aa753373"
      },
      "outputs": [],
      "source": [
        "# Print the number of neighborhoods in each class\n"
      ]
    },
    {
      "cell_type": "code",
      "execution_count": null,
      "id": "237efc42",
      "metadata": {
        "id": "237efc42",
        "outputId": "b89160bc-e162-471d-a514-c8c958f609a1"
      },
      "outputs": [
        {
          "name": "stdout",
          "output_type": "stream",
          "text": [
            "Low value     12255\n",
            "High value     8385\n",
            "Name: class, dtype: int64\n"
          ]
        }
      ],
      "source": [
        "print(Housing_data['class'].value_counts())"
      ]
    },
    {
      "cell_type": "code",
      "execution_count": null,
      "id": "090be728",
      "metadata": {
        "id": "090be728"
      },
      "outputs": [],
      "source": []
    }
  ],
  "metadata": {
    "kernelspec": {
      "display_name": "Python 3 (ipykernel)",
      "language": "python",
      "name": "python3"
    },
    "language_info": {
      "codemirror_mode": {
        "name": "ipython",
        "version": 3
      },
      "file_extension": ".py",
      "mimetype": "text/x-python",
      "name": "python",
      "nbconvert_exporter": "python",
      "pygments_lexer": "ipython3",
      "version": "3.9.12"
    },
    "colab": {
      "provenance": [],
      "include_colab_link": true
    }
  },
  "nbformat": 4,
  "nbformat_minor": 5
}