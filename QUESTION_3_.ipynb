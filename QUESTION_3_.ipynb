{
  "nbformat": 4,
  "nbformat_minor": 0,
  "metadata": {
    "colab": {
      "provenance": []
    },
    "kernelspec": {
      "name": "python3",
      "display_name": "Python 3"
    },
    "language_info": {
      "name": "python"
    }
  },
  "cells": [
    {
      "cell_type": "markdown",
      "source": [
        "**Question 3:**"
      ],
      "metadata": {
        "id": "D29bEkuWvXJc"
      }
    },
    {
      "cell_type": "markdown",
      "source": [
        "Staring by Importing the necessary libraries "
      ],
      "metadata": {
        "id": "-KtOrp3XyJan"
      }
    },
    {
      "cell_type": "code",
      "execution_count": null,
      "metadata": {
        "id": "QYTwfx-WvWiM"
      },
      "outputs": [],
      "source": [
        "from sklearn.datasets import fetch_california_housing\n",
        "from sklearn.model_selection import train_test_split\n",
        "from sklearn.linear_model import LinearRegression\n",
        "from sklearn.metrics import r2_score, mean_squared_error\n",
        "import matplotlib.pyplot as plt"
      ]
    },
    {
      "cell_type": "markdown",
      "source": [
        "Importig the Housing dataset"
      ],
      "metadata": {
        "id": "Sr13v_foyT-O"
      }
    },
    {
      "cell_type": "code",
      "source": [
        "california = fetch_california_housing()"
      ],
      "metadata": {
        "id": "G_KlWI3pxepr"
      },
      "execution_count": null,
      "outputs": []
    },
    {
      "cell_type": "markdown",
      "source": [
        "Let us splitt our dataset into 2: Training set and Testing set"
      ],
      "metadata": {
        "id": "2-WrDkT31_7m"
      }
    },
    {
      "cell_type": "code",
      "source": [
        "# Splitting the dataset into a training set training 30% of data and a testing set of 70%\n",
        "Z_train, Z_test, W_train, W_test = train_test_split(california.data, california.target, test_size=0.3, random_state= 35)"
      ],
      "metadata": {
        "id": "BFd0LnIl2IIQ"
      },
      "execution_count": null,
      "outputs": []
    },
    {
      "cell_type": "markdown",
      "source": [
        "Developing a linear regression model"
      ],
      "metadata": {
        "id": "Cfl4ZzdC3zXQ"
      }
    },
    {
      "cell_type": "code",
      "source": [
        "# Creating a linear regression model and training it on the training set\n",
        "model = LinearRegression()\n",
        "model.fit(Z_train, W_train)"
      ],
      "metadata": {
        "colab": {
          "base_uri": "https://localhost:8080/"
        },
        "id": "h9QqPPdmxfUH",
        "outputId": "cb622852-73bf-419e-d7b8-e3cf571fff58"
      },
      "execution_count": null,
      "outputs": [
        {
          "output_type": "execute_result",
          "data": {
            "text/plain": [
              "LinearRegression()"
            ]
          },
          "metadata": {},
          "execution_count": 40
        }
      ]
    },
    {
      "cell_type": "markdown",
      "source": [
        "Estimating the Median values of the test set"
      ],
      "metadata": {
        "id": "UF1DGXE54OXH"
      }
    },
    {
      "cell_type": "code",
      "source": [
        "W_predict = model.predict(Z_test)"
      ],
      "metadata": {
        "id": "SOCxEUJ9xfl9"
      },
      "execution_count": null,
      "outputs": []
    },
    {
      "cell_type": "markdown",
      "source": [
        "R-squared value and the mean squared error for the model on the test set"
      ],
      "metadata": {
        "id": "T0nDCWL54uzt"
      }
    },
    {
      "cell_type": "code",
      "source": [
        "r2 = r2_score(W_test, W_predict)\n",
        "mse = mean_squared_error(W_test, W_predict)"
      ],
      "metadata": {
        "id": "5Ty6MAZixfy2"
      },
      "execution_count": null,
      "outputs": []
    },
    {
      "cell_type": "code",
      "source": [
        "# Plotting the predicted values against the true values for the test set\n",
        "plt.scatter(W_test, W_predict)\n",
        "plt.xlabel(\"True Values\")\n",
        "plt.ylabel(\"Predictions\")\n",
        "plt.show()"
      ],
      "metadata": {
        "colab": {
          "base_uri": "https://localhost:8080/",
          "height": 279
        },
        "id": "V9yF0nu0xf_P",
        "outputId": "20ac1969-5a59-4032-e84e-3175dabfc38c"
      },
      "execution_count": null,
      "outputs": [
        {
          "output_type": "display_data",
          "data": {
            "text/plain": [
              "<Figure size 432x288 with 1 Axes>"
            ],
            "image/png": "[encoded data removed]"
          },
          "metadata": {
            "needs_background": "light"
          }
        }
      ]
    },
    {
      "cell_type": "code",
      "source": [
        "print(\"R-squared value:\", r2)\n",
        "print(\"Mean squared error:\", mse)\n",
        "\n",
        "# we can see that the value of both the R-Squared value and Mean square value will always depend on the size of the tested data and random number.\n",
        "\n"
      ],
      "metadata": {
        "colab": {
          "base_uri": "https://localhost:8080/"
        },
        "id": "6JlwGuyAxgLL",
        "outputId": "8a4b7688-a987-49d4-c8c9-6917b0aff1a6"
      },
      "execution_count": null,
      "outputs": [
        {
          "output_type": "stream",
          "name": "stdout",
          "text": [
            "R-squared value: 0.603368390510185\n",
            "Mean squared error: 0.5301609904341873\n"
          ]
        }
      ]
    }
  ]
}