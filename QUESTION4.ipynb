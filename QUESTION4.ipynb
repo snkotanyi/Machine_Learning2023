{
  "nbformat": 4,
  "nbformat_minor": 0,
  "metadata": {
    "colab": {
      "provenance": []
    },
    "kernelspec": {
      "name": "python3",
      "display_name": "Python 3"
    },
    "language_info": {
      "name": "python"
    }
  },
  "cells": [
    {
      "cell_type": "markdown",
      "source": [
        "Question 4:"
      ],
      "metadata": {
        "id": "ABVIsPmF_ioo"
      }
    },
    {
      "cell_type": "code",
      "source": [
        "import os\n",
        "\n",
        "current_dir = os.getcwd()\n",
        "print(current_dir)"
      ],
      "metadata": {
        "colab": {
          "base_uri": "https://localhost:8080/"
        },
        "id": "A8Ng-h5rIlem",
        "outputId": "583abe28-1f4b-41ae-e3d0-a4fa0a7e70e0"
      },
      "execution_count": null,
      "outputs": [
        {
          "output_type": "stream",
          "name": "stdout",
          "text": [
            "/content\n"
          ]
        }
      ]
    },
    {
      "cell_type": "code",
      "execution_count": null,
      "metadata": {
        "id": "wkYMXboY-bQt"
      },
      "outputs": [],
      "source": [
        "# Importing the necessary libraries and the dataset\n",
        "from sklearn.datasets import fetch_california_housing\n",
        "from sklearn.model_selection import train_test_split\n",
        "from sklearn.linear_model import LinearRegression, LogisticRegression\n",
        "from sklearn.metrics import r2_score, mean_squared_error, accuracy_score"
      ]
    },
    {
      "cell_type": "markdown",
      "source": [
        "I have decided to load data from skcit learn as Using my path where the CSV file was dowloaded was giving me errors."
      ],
      "metadata": {
        "id": "dUk_V2fWOp3c"
      }
    },
    {
      "cell_type": "code",
      "source": [
        "\n",
        "# Loading the dataset\n",
        "california = fetch_california_housing()\n",
        "\n"
      ],
      "metadata": {
        "id": "nDjUaxY0_jMK"
      },
      "execution_count": null,
      "outputs": []
    },
    {
      "cell_type": "markdown",
      "source": [
        "Training Set and Test"
      ],
      "metadata": {
        "id": "kuVha1oDO6aD"
      }
    },
    {
      "cell_type": "code",
      "source": [
        "# Splitting the dataset into a training set and a test set\n",
        "X_train, X_test, y_train, y_test = train_test_split(california.data, california.target, test_size=0.3, random_state=30)"
      ],
      "metadata": {
        "id": "oKpt2Ui4PAOo"
      },
      "execution_count": null,
      "outputs": []
    },
    {
      "cell_type": "markdown",
      "source": [
        "CLASSIFICATION"
      ],
      "metadata": {
        "id": "jJkQhn4gPsc3"
      }
    },
    {
      "cell_type": "code",
      "source": [
        "# By grouping the neighborhoods into two classes;\n",
        "y_train_class = (y_train <= 3.0)\n",
        "y_test_class = (y_test <= 3.0)\n"
      ],
      "metadata": {
        "id": "_8bSe7d__vBz"
      },
      "execution_count": null,
      "outputs": []
    },
    {
      "cell_type": "markdown",
      "source": [
        "Linear Regression"
      ],
      "metadata": {
        "id": "_BBSJqEXQPPr"
      }
    },
    {
      "cell_type": "code",
      "source": [
        "# Creating a logistic regression model and training it on the training set\n",
        "clf = LogisticRegression(random_state=42)\n",
        "clf.fit(X_train, y_train_class)"
      ],
      "metadata": {
        "colab": {
          "base_uri": "https://localhost:8080/"
        },
        "id": "kAa3ap3i_4kY",
        "outputId": "2a18bc18-674a-4518-9417-76a46d187688"
      },
      "execution_count": null,
      "outputs": [
        {
          "output_type": "stream",
          "name": "stderr",
          "text": [
            "/usr/local/lib/python3.8/dist-packages/sklearn/linear_model/_logistic.py:814: ConvergenceWarning: lbfgs failed to converge (status=1):\n",
            "STOP: TOTAL NO. of ITERATIONS REACHED LIMIT.\n",
            "\n",
            "Increase the number of iterations (max_iter) or scale the data as shown in:\n",
            "    https://scikit-learn.org/stable/modules/preprocessing.html\n",
            "Please also refer to the documentation for alternative solver options:\n",
            "    https://scikit-learn.org/stable/modules/linear_model.html#logistic-regression\n",
            "  n_iter_i = _check_optimize_result(\n"
          ]
        },
        {
          "output_type": "execute_result",
          "data": {
            "text/plain": [
              "LogisticRegression(random_state=42)"
            ]
          },
          "metadata": {},
          "execution_count": 27
        }
      ]
    },
    {
      "cell_type": "markdown",
      "source": [
        "Predicting the class for the test set"
      ],
      "metadata": {
        "id": "J1TL2UFESGQO"
      }
    },
    {
      "cell_type": "code",
      "source": [
        "y_pred_class = clf.predict(X_test)\n"
      ],
      "metadata": {
        "id": "3XFD6XrrABM9"
      },
      "execution_count": null,
      "outputs": []
    },
    {
      "cell_type": "markdown",
      "source": [
        "# Splitting the dataset into two classes based on the predicted class"
      ],
      "metadata": {
        "id": "5_3WYT6ASVRu"
      }
    },
    {
      "cell_type": "code",
      "source": [
        "X_train_inland = X_train[y_train_class]\n",
        "y_train_inland = y_train[y_train_class]\n",
        "X_train_near_ocean = X_train[~y_train_class]\n",
        "y_train_near_ocean = y_train[~y_train_class]"
      ],
      "metadata": {
        "id": "bssIYEw1ABfX"
      },
      "execution_count": null,
      "outputs": []
    },
    {
      "cell_type": "code",
      "source": [
        "X_test_inland = X_test[y_pred_class]\n",
        "y_test_inland = y_test[y_pred_class]\n",
        "X_test_near_ocean = X_test[~y_pred_class]\n",
        "y_test_near_ocean = y_test[~y_pred_class]"
      ],
      "metadata": {
        "id": "VJtLwjn6AStq"
      },
      "execution_count": null,
      "outputs": []
    },
    {
      "cell_type": "markdown",
      "source": [
        "# Regression: Predicting the median house value for each class based on the other features"
      ],
      "metadata": {
        "id": "tYu5zKMBSzaY"
      }
    },
    {
      "cell_type": "code",
      "source": [
        "\n",
        "model_inland = LinearRegression()\n",
        "model_inland.fit(X_train_inland, y_train_inland)\n",
        "y_pred_inland = model_inland.predict(X_test_inland)\n",
        "r2_inland = r2_score(y_test_inland, y_pred_inland)\n",
        "mse_inland = mean_squared_error(y_test_inland, y_pred_inland)"
      ],
      "metadata": {
        "id": "p6YftIqTATWu"
      },
      "execution_count": null,
      "outputs": []
    },
    {
      "cell_type": "code",
      "source": [
        "model_near_ocean = LinearRegression()\n",
        "model_near_ocean.fit(X_train_near_ocean, y_train_near_ocean)\n",
        "y_pred_near_ocean = model_near_ocean.predict(X_test_near_ocean)\n",
        "r2_near_ocean = r2_score(y_test_near_ocean, y_pred_near_ocean)\n",
        "mse_near_ocean = mean_squared_error(y_test_near_ocean, y_pred_near_ocean)\n",
        "\n"
      ],
      "metadata": {
        "id": "79MXBQBW_uiC"
      },
      "execution_count": null,
      "outputs": []
    },
    {
      "cell_type": "markdown",
      "source": [
        "Displaying the outcomes"
      ],
      "metadata": {
        "id": "VHqsmnVzS2LU"
      }
    },
    {
      "cell_type": "code",
      "source": [
        "# Printing the results\n",
        "print(\"Classification Accuracy:\", accuracy_score(y_test_class, y_pred_class))\n",
        "print(\"Inland - R-squared value:\", r2_inland)\n",
        "print(\"Inland - Mean squared error:\", mse_inland)\n",
        "print(\"Near ocean - R-squared value:\", r2_near_ocean)\n",
        "print(\"Near ocean - Mean squared error:\", mse_near_ocean)"
      ],
      "metadata": {
        "colab": {
          "base_uri": "https://localhost:8080/"
        },
        "id": "Az-WHa8fABzo",
        "outputId": "69df9a14-ab4c-44f1-a987-f7dbda64b074"
      },
      "execution_count": null,
      "outputs": [
        {
          "output_type": "stream",
          "name": "stdout",
          "text": [
            "Classification Accuracy: 0.8793604651162791\n",
            "Inland - R-squared value: 0.3705818808538668\n",
            "Inland - Mean squared error: 0.5651628723892833\n",
            "Near ocean - R-squared value: 0.1547759176353738\n",
            "Near ocean - Mean squared error: 0.8164986424379549\n"
          ]
        }
      ]
    },
    {
      "cell_type": "code",
      "source": [],
      "metadata": {
        "id": "7gK5RfH0_vvy"
      },
      "execution_count": null,
      "outputs": []
    }
  ]
}